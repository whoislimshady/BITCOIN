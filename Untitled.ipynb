{
 "cells": [
  {
   "cell_type": "code",
   "execution_count": null,
   "metadata": {},
   "outputs": [],
   "source": [
    "import hashlib\n",
    "NONCE_LIMIT = 100000000000000000000000000000000\n",
    "zeroes = 18\n",
    "\n",
    "def mine(block_number, transaction, previous_hash):\n",
    "    for nonce in range(NONCE_LIMIT):\n",
    "        base_text = str(block_number) + transaction + previous_hash + str(nonce)\n",
    "        hash_try = hashlib.sha256(base_text.encode()).hexdigest()\n",
    "        if hash_try.startswith('0' * zeroes):\n",
    "            print(f\"Found Hash With NONCE: {nonce}\")\n",
    "    return -1\n",
    "\n",
    "block_number = 678268\n",
    "transactions = \"3039.93416656 \"\n",
    "previous_hash = \"00000000000000000006e695f95e14754a4898097dd2d6a8aa975671d36a4d51\"\n",
    "\n",
    "mine(block_number, transactions,previous_hash)\n",
    "\n"
   ]
  },
  {
   "cell_type": "code",
   "execution_count": null,
   "metadata": {},
   "outputs": [],
   "source": []
  }
 ],
 "metadata": {
  "kernelspec": {
   "display_name": "Python 3",
   "language": "python",
   "name": "python3"
  },
  "language_info": {
   "codemirror_mode": {
    "name": "ipython",
    "version": 3
   },
   "file_extension": ".py",
   "mimetype": "text/x-python",
   "name": "python",
   "nbconvert_exporter": "python",
   "pygments_lexer": "ipython3",
   "version": "3.8.5"
  }
 },
 "nbformat": 4,
 "nbformat_minor": 4
}
